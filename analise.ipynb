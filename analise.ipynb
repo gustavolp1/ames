{
 "cells": [
  {
   "cell_type": "markdown",
   "metadata": {},
   "source": [
    "enunciado:\n",
    "\n",
    "construir projeto de regressao usando ames usando feature engineering e tunagem dos problemas, por exemplo com quicksearch(?)"
   ]
  }
 ],
 "metadata": {
  "language_info": {
   "name": "python"
  }
 },
 "nbformat": 4,
 "nbformat_minor": 2
}
