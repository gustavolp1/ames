{
 "cells": [
  {
   "cell_type": "markdown",
   "metadata": {},
   "source": [
    "enunciado:\n",
    "\n",
    "construir projeto de regressao usando ames usando feature engineering e tunagem dos problemas, por exemplo com quicksearch(?)"
   ]
  },
  {
   "cell_type": "markdown",
   "metadata": {},
   "source": [
    "https://github.com/FabioAyresInsper/ames"
   ]
  }
 ],
 "metadata": {
  "language_info": {
   "name": "python"
  }
 },
 "nbformat": 4,
 "nbformat_minor": 2
}
