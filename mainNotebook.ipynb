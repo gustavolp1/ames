{
 "cells": [
  {
   "cell_type": "code",
   "execution_count": 80,
   "metadata": {},
   "outputs": [],
   "source": [
    "import pickle\n",
    "import pathlib\n",
    "\n",
    "import numpy as np\n",
    "import pandas as pd\n",
    "\n",
    "from sklearn.model_selection import train_test_split\n",
    "from sklearn.linear_model import LinearRegression\n",
    "from sklearn.metrics import mean_squared_error"
   ]
  },
  {
   "cell_type": "code",
   "execution_count": 81,
   "metadata": {},
   "outputs": [],
   "source": [
    "DATA_DIR = pathlib.Path.cwd()\n",
    "clean_data_path = DATA_DIR / 'data' / 'processed' / 'ames_clean.pkl'\n",
    "with open(clean_data_path, 'rb') as file:\n",
    "    data = pickle.load(file)\n",
    "\n",
    "model_data = data.copy()\n",
    "# data.info()"
   ]
  },
  {
   "cell_type": "code",
   "execution_count": 82,
   "metadata": {},
   "outputs": [],
   "source": [
    "## erro aumenta\n",
    "# model_data['Bathrooms'] = model_data['Full.Bath'] + model_data['Half.Bath'] + model_data['Bsmt.Full.Bath'] + model_data['Bsmt.Half.Bath']\n",
    "# model_data = model_data.drop(columns=['Full.Bath', 'Half.Bath', 'Bsmt.Full.Bath', 'Bsmt.Half.Bath'])\n",
    "\n",
    "## erro aumenta\n",
    "# model_data['Porch'] = model_data['Open.Porch.SF'] + model_data['Enclosed.Porch'] + model_data['X3Ssn.Porch'] + model_data['Screen.Porch']\n",
    "# model_data = model_data.drop(columns=['Open.Porch.SF', 'Enclosed.Porch', 'X3Ssn.Porch', 'Screen.Porch'])\n",
    "\n",
    "# erro diminui\n",
    "# soma de todos os 'pes' quadrados\n",
    "model_data['Total.Liv.SF'] = model_data['X1st.Flr.SF'] + model_data['X2nd.Flr.SF'] + model_data['Gr.Liv.Area'] + model_data['BsmtFin.SF.1'] + model_data['BsmtFin.SF.2'] + model_data['Low.Qual.Fin.SF'] + model_data['Bsmt.Unf.SF']\n",
    "model_data = model_data.drop(columns=['X1st.Flr.SF', 'X2nd.Flr.SF', 'Gr.Liv.Area', 'BsmtFin.SF.1', 'BsmtFin.SF.2', 'Low.Qual.Fin.SF', 'Bsmt.Unf.SF'])"
   ]
  },
  {
   "cell_type": "code",
   "execution_count": 83,
   "metadata": {},
   "outputs": [],
   "source": [
    "\n",
    "# -------------- Encode Ordinal -------------- #\n",
    "categorical_columns = []\n",
    "ordinal_columns = []\n",
    "for col in model_data.select_dtypes('category').columns:\n",
    "    if model_data[col].cat.ordered:\n",
    "        ordinal_columns.append(col)\n",
    "    else:\n",
    "        categorical_columns.append(col)\n",
    "\n",
    "# -------------- Factorize -------------- #\n",
    "for col in ordinal_columns:\n",
    "    codes, _ = pd.factorize(data[col], sort=True)\n",
    "    model_data[col] = codes\n",
    "\n",
    "# -------------- One Hot Encoding -------------- #\n",
    "original_data = model_data['Exterior']\n",
    "encoded_data = pd.get_dummies(original_data, drop_first=True)\n",
    "\n",
    "aux_dataframe = encoded_data\n",
    "aux_dataframe['Exterior'] = original_data.copy()\n",
    "\n",
    "aux_dataframe.head().transpose()\n",
    "\n",
    "# -------------- Should have helped with linearRegression errors -------------- #\n",
    "model_data = pd.get_dummies(model_data, drop_first=True)\n",
    "for cat in categorical_columns:\n",
    "    dummies = []\n",
    "    for col in model_data.columns:\n",
    "        if col.startswith(cat + \"_\"):\n",
    "            dummies.append(f'\"{col}\"')\n",
    "    dummies_str = ', '.join(dummies)"
   ]
  },
  {
   "cell_type": "code",
   "execution_count": 84,
   "metadata": {},
   "outputs": [
    {
     "data": {
      "text/plain": [
       "0.06047644625183051"
      ]
     },
     "execution_count": 84,
     "metadata": {},
     "output_type": "execute_result"
    }
   ],
   "source": [
    "# We're using ridge because not all versions of python work perfectly with linearRegression\n",
    "from sklearn.linear_model import Ridge \n",
    "\n",
    "X = model_data.drop(columns=['SalePrice']).copy()\n",
    "y = model_data['SalePrice'].copy()\n",
    "\n",
    "Xtrain, Xtest, ytrain, ytest = train_test_split(X, y, test_size=0.25, random_state=42)\n",
    "\n",
    "model = Ridge(alpha=0.01)\n",
    "model.fit(Xtrain, ytrain)\n",
    "ypred = model.predict(Xtest)\n",
    "\n",
    "RMSE = np.sqrt(mean_squared_error(ytest, ypred))\n",
    "RMSE"
   ]
  },
  {
   "cell_type": "code",
   "execution_count": 85,
   "metadata": {},
   "outputs": [
    {
     "name": "stdout",
     "output_type": "stream",
     "text": [
      "Average error is 14.94%\n"
     ]
    }
   ],
   "source": [
    "error_percent = 100 * (10**RMSE - 1)\n",
    "print(f'Average error is {error_percent:.2f}%')"
   ]
  }
 ],
 "metadata": {
  "kernelspec": {
   "display_name": "env",
   "language": "python",
   "name": "python3"
  },
  "language_info": {
   "codemirror_mode": {
    "name": "ipython",
    "version": 3
   },
   "file_extension": ".py",
   "mimetype": "text/x-python",
   "name": "python",
   "nbconvert_exporter": "python",
   "pygments_lexer": "ipython3",
   "version": "3.10.4"
  }
 },
 "nbformat": 4,
 "nbformat_minor": 2
}
